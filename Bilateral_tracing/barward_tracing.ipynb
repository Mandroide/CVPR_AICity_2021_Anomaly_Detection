{
 "cells": [
  {
   "cell_type": "markdown",
   "id": "million-destruction",
   "metadata": {},
   "source": [
    "# filter the samples resolved by forward tracing and tracking failure samples"
   ]
  },
  {
   "cell_type": "code",
   "execution_count": null,
   "id": "laden-latter",
   "metadata": {},
   "outputs": [],
   "source": [
    "\n",
    "import pandas as pd\n",
    "import matplotlib.pyplot as plt\n",
    "import seaborn as sns\n",
    "plt.style.use('seaborn')\n",
    "import matplotlib\n",
    "import numpy as np\n",
    "import cv2,os\n",
    "import joblib\n",
    "store_dir='./Velocity_Pos/'\n",
    "all_result=np.load('./unprocess2.npy')\n",
    "\n",
    "if not os.path.exists(store_dir):\n",
    "      os.makedirs(store_dir) \n",
    "for id in all_result:\n",
    "    V_dict=joblib.load('./Motion/'+str(id)+'.pkl')\n",
    "    \n",
    "    v_list=V_dict['velocity']\n",
    "    \n",
    "    #import pdb; pdb.set_trace()\n",
    "    if np.max(v_list)>12:\n",
    "        if len(v_list)>145 or len(v_list)<30:\n",
    "            if len(v_list)<30:\n",
    "                r_dict[id]=105\n",
    "                print(id)\n",
    "            print(id)\n",
    "            #print(id)\n",
    "            plt.figure(figsize=(14, 10))\n",
    "            sns.lineplot(data=v_list)\n",
    "            plt.ylim([0,250])\n",
    "            plt.savefig(store_dir+str(id)+'.jpg')\n"
   ]
  },
  {
   "cell_type": "markdown",
   "id": "adopted-station",
   "metadata": {},
   "source": [
    "# peak supression"
   ]
  },
  {
   "cell_type": "code",
   "execution_count": null,
   "id": "blind-clearance",
   "metadata": {
    "code_folding": []
   },
   "outputs": [],
   "source": [
    "def supress(v_list):\n",
    "    v_list=np.array(v_list)\n",
    "    tops=np.argsort(-v_list)\n",
    "    for idx in tops[0:7:2]:\n",
    "        neighbor=10-idx\n",
    "        if v_list[idx]>12  and (v_list[idx]>v_list[idx-neighbor:idx]).all() \\\n",
    "            and (v_list[idx]>v_list[idx+1:idx+neighbor]).all():\n",
    "            v_list[idx]=0\n",
    "\n",
    "    return v_list"
   ]
  },
  {
   "cell_type": "markdown",
   "id": "signal-birmingham",
   "metadata": {},
   "source": [
    "# Detection Mechanism"
   ]
  },
  {
   "cell_type": "code",
   "execution_count": 1,
   "id": "beneficial-sydney",
   "metadata": {
    "ExecuteTime": {
     "end_time": "2021-04-07T11:13:17.039939Z",
     "start_time": "2021-04-07T11:13:14.085791Z"
    },
    "code_folding": [
     3
    ]
   },
   "outputs": [],
   "source": [
    "from sklearn.metrics import r2_score, median_absolute_error, mean_absolute_error\n",
    "from sklearn.metrics import median_absolute_error, mean_squared_error, mean_squared_log_error\n",
    "\n",
    "def mean_absolute_percentage_error(y_true, y_pred): \n",
    "    return np.mean(np.abs((y_true - y_pred) / y_true)) * 100\n",
    "def plotMovingAverage(series,id_v, window, plot_intervals=False, scale=2.5, plot_anomalies=False):\n",
    "\n",
    "\n",
    "    rolling_mean = series.rolling(window=window).mean()\n",
    "    \n",
    "    plt.figure(figsize=(15,5))\n",
    "    plt.title(\"Moving average\\n window size = {}\".format(window))\n",
    "    plt.plot(rolling_mean, \"g\", label=\"Rolling mean trend\")\n",
    "\n",
    "    # Plot confidence intervals for smoothed values\n",
    "    if plot_intervals:\n",
    "        mae = mean_absolute_error(series[window:], rolling_mean[window:])\n",
    "        deviation = np.std(series[window:] - rolling_mean[window:])\n",
    "        lower_bond = rolling_mean - (mae + scale * deviation)\n",
    "        upper_bond = rolling_mean + (mae + scale * deviation)\n",
    "        plt.plot(upper_bond, \"r--\", label=\"Upper Bond / Lower Bond\")\n",
    "        plt.plot(lower_bond, \"r--\")\n",
    "        \n",
    "        # Having the intervals, find abnormal values\n",
    "        if plot_anomalies:\n",
    "            anomalies = pd.DataFrame(index=series.index, columns=series.columns)\n",
    "            #anomalies[series<lower_bond] = series[series<lower_bond]\n",
    "            anomalies[series>upper_bond] = series[series>upper_bond]\n",
    "            \n",
    "            plt.plot(anomalies, \"ro\", markersize=10)\n",
    "            if len(anomalies):\n",
    "                np.save(store_dir+str(id)+'.npy',anomalies)\n",
    "        \n",
    "    plt.plot(series[window:], label=\"Actual values\")\n",
    "    plt.legend(loc=\"upper left\")\n",
    "    plt.grid(True)\n",
    "    plt.savefig(store_dir+str(id)+'.jpg')"
   ]
  },
  {
   "cell_type": "code",
   "execution_count": null,
   "id": "physical-admission",
   "metadata": {},
   "outputs": [],
   "source": [
    "import pandas as pd\n",
    "import matplotlib.pyplot as plt\n",
    "import seaborn as sns\n",
    "plt.style.use('seaborn')\n",
    "import matplotlib\n",
    "import numpy as np\n",
    "import cv2,os\n",
    "import joblib\n",
    "store_dir='./Angle_Pos/'\n",
    "all_result=np.load('./unprocess2.npy')\n",
    "if not os.path.exists(store_dir):\n",
    "      os.makedirs(store_dir) \n",
    "for id in all_result:\n",
    " if id in [11,35,45,139,72,99,104,105,23,43,119,134,50,92]:\n",
    "    V_dict=joblib.load('./Motion/'+str(id)+'.pkl')\n",
    "    #plt.figure(figsize=(14, 10))\n",
    "    v_list=V_dict['velocity']\n",
    "    a=0.8\n",
    "    v_list=supress(v_list)\n",
    "    v_list=[(1-a)*v_list[i-1]+a*v_list[i] for i,v in enumerate(v_list) if i!=0]\n",
    "    \n",
    "    series=pd.DataFrame(data=v_list)\n",
    "    \n",
    "    \n",
    "    plotMovingAverage(series,id,window=5,plot_intervals=True,plot_anomalies=True)"
   ]
  },
  {
   "cell_type": "markdown",
   "id": "raising-comment",
   "metadata": {},
   "source": [
    "# Post-processing"
   ]
  },
  {
   "cell_type": "code",
   "execution_count": null,
   "id": "utility-acting",
   "metadata": {},
   "outputs": [],
   "source": [
    "store_dir='./Angle_Pos/'\n",
    "all_result=np.load('./unprocess2.npy')\n",
    "r_dict={}\n",
    "for id in [11,35,72,99,104,105,23,43,119,134,50,92]:\n",
    "    b=np.load(store_dir+str(id)+'.npy',allow_pickle=True)\n",
    "    \n",
    "    a = [a_ for a_ in b if a_ == a_]\n",
    "    \n",
    "    if len(a):\n",
    "        max_index=np.argmax(a)\n",
    "        max_value=np.max(a)\n",
    "        left_than_max=a[:max_index]\n",
    "        local_min=0\n",
    "        for i,v in enumerate(left_than_max):\n",
    "            if i ==0:\n",
    "                local_min=0\n",
    "            elif i !=0:\n",
    "                if v>left_than_max[i-1]:\n",
    "                    continue\n",
    "                else:\n",
    "                    local_min=i\n",
    "                    break\n",
    "        if local_min==0:\n",
    "            if len(a[max_index:])>=2:\n",
    "                index=np.where(b==a[-1])\n",
    "        \n",
    "                r_dict[id]=int(index[0])-7\n",
    "            else:\n",
    "                print(id,'Has Acc!')\n",
    "        else:\n",
    "            index=np.where( b== max_value)\n",
    "            r_dict[id]=int(index[0])\n",
    "            print(id,\"Accident found\",int(index[0]))\n",
    "            \n",
    "    else:\n",
    "        print(id,'No Anomaly')"
   ]
  }
 ],
 "metadata": {
  "kernelspec": {
   "display_name": "Python [conda env:yolov5] *",
   "language": "python",
   "name": "conda-env-yolov5-py"
  },
  "language_info": {
   "codemirror_mode": {
    "name": "ipython",
    "version": 3
   },
   "file_extension": ".py",
   "mimetype": "text/x-python",
   "name": "python",
   "nbconvert_exporter": "python",
   "pygments_lexer": "ipython3",
   "version": "3.7.10"
  },
  "latex_envs": {
   "LaTeX_envs_menu_present": true,
   "autoclose": false,
   "autocomplete": true,
   "bibliofile": "biblio.bib",
   "cite_by": "apalike",
   "current_citInitial": 1,
   "eqLabelWithNumbers": true,
   "eqNumInitial": 1,
   "hotkeys": {
    "equation": "Ctrl-E",
    "itemize": "Ctrl-I"
   },
   "labels_anchors": false,
   "latex_user_defs": false,
   "report_style_numbering": false,
   "user_envs_cfg": false
  },
  "toc": {
   "base_numbering": 1,
   "nav_menu": {},
   "number_sections": true,
   "sideBar": true,
   "skip_h1_title": false,
   "title_cell": "Table of Contents",
   "title_sidebar": "Contents",
   "toc_cell": false,
   "toc_position": {},
   "toc_section_display": true,
   "toc_window_display": false
  }
 },
 "nbformat": 4,
 "nbformat_minor": 5
}
